{
 "cells": [
  {
   "cell_type": "code",
   "execution_count": 1,
   "id": "05e1156f",
   "metadata": {},
   "outputs": [],
   "source": [
    "import pandas as pd\n",
    "import numpy as np\n",
    "import matplotlib.pyplot as plt"
   ]
  },
  {
   "cell_type": "code",
   "execution_count": 2,
   "id": "4ddbbb02-e9d3-4979-84f2-ee2d42690101",
   "metadata": {},
   "outputs": [
    {
     "name": "stdout",
     "output_type": "stream",
     "text": [
      "          video_id trending_date  \\\n",
      "0      kzwfHumJyYc      17.14.11   \n",
      "1      zUZ1z7FwLc8      17.14.11   \n",
      "2      10L1hZ9qa58      17.14.11   \n",
      "3      N1vE8iiEg64      17.14.11   \n",
      "4      kJzGH0PVQHQ      17.14.11   \n",
      "...            ...           ...   \n",
      "37347  iNHecA3PJCo      18.14.06   \n",
      "37348  dpPmPbhcslM      18.14.06   \n",
      "37349  mV6aztP58f8      18.14.06   \n",
      "37350  qxqDNP1bDEw      18.14.06   \n",
      "37351  wERgpPK44w0      18.14.06   \n",
      "\n",
      "                                                   title       channel_title  \\\n",
      "0      Sharry Mann: Cute Munda ( Song Teaser) | Parmi...     Lokdhun Punjabi   \n",
      "1      पीरियड्स के समय, पेट पर पति करता ऐसा, देखकर दं...             HJ NEWS   \n",
      "2      Stylish Star Allu Arjun @ ChaySam Wedding Rece...                TFPC   \n",
      "3                         Eruma Saani | Tamil vs English         Eruma Saani   \n",
      "4      why Samantha became EMOTIONAL @ Samantha naga ...          Filmylooks   \n",
      "...                                                  ...                 ...   \n",
      "37347  फेकू आशिक़ - राजस्थान की सबसे शानदार कॉमेडी | ...      RDC Rajasthani   \n",
      "37348                         Seetha | Flowers | Ep# 364          Flowers TV   \n",
      "37349  Bhramanam I Episode 87 - 12 June 2018 I Mazhav...   Mazhavil Manorama   \n",
      "37350  Nua Bohu | Full Ep 285 | 13th June 2018 | Odia...           Tarang TV   \n",
      "37351  Ee Nagaraniki Emaindi Trailer | Tharun Bhascke...  Suresh Productions   \n",
      "\n",
      "       category_id              publish_time  \\\n",
      "0                1  2017-11-12T12:20:39.000Z   \n",
      "1               25  2017-11-13T05:43:56.000Z   \n",
      "2               24  2017-11-12T15:48:08.000Z   \n",
      "3               23  2017-11-12T07:08:48.000Z   \n",
      "4               24  2017-11-13T01:14:16.000Z   \n",
      "...            ...                       ...   \n",
      "37347           23  2018-06-13T08:01:11.000Z   \n",
      "37348           24  2018-06-13T11:30:04.000Z   \n",
      "37349           24  2018-06-13T05:00:02.000Z   \n",
      "37350           24  2018-06-13T15:07:49.000Z   \n",
      "37351           24  2018-06-10T04:29:54.000Z   \n",
      "\n",
      "                                                    tags    views  likes  \\\n",
      "0      sharry mann|\"sharry mann new song\"|\"sharry man...  1096327  33966   \n",
      "1      पीरियड्स के समय|\"पेट पर पति करता ऐसा\"|\"देखकर द...   590101    735   \n",
      "2      Stylish Star Allu Arjun @ ChaySam Wedding Rece...   473988   2011   \n",
      "3      Eruma Saani|\"Tamil Comedy Videos\"|\"Films\"|\"Mov...  1242680  70353   \n",
      "4      Filmylooks|\"latest news\"|\"telugu movies\"|\"telu...   464015    492   \n",
      "...                                                  ...      ...    ...   \n",
      "37347  twinkle vaishnav comedy|\"twinkle vaishnav\"|\"tw...   214378   3291   \n",
      "37348  flowers serials|\"actress\"|\"malayalam serials\"|...   406828   1726   \n",
      "37349  mazhavil manorama|\"bhramanam full episode\"|\"gt...   386319   1216   \n",
      "37350  tarang|\"tarang tv\"|\"tarang tv online\"|\"tarang ...   130263    698   \n",
      "37351  Ee Nagaraniki Emaindi|\"Ee Nagaraniki Emaindi T...  1278249  22466   \n",
      "\n",
      "       dislikes  comment_count  \\\n",
      "0           798            882   \n",
      "1           904              0   \n",
      "2           243            149   \n",
      "3          1624           2684   \n",
      "4           293             66   \n",
      "...         ...            ...   \n",
      "37347       404            196   \n",
      "37348       478           1428   \n",
      "37349       453            697   \n",
      "37350       115             65   \n",
      "37351      1609           1205   \n",
      "\n",
      "                                       thumbnail_link  comments_disabled  \\\n",
      "0      https://i.ytimg.com/vi/kzwfHumJyYc/default.jpg              False   \n",
      "1      https://i.ytimg.com/vi/zUZ1z7FwLc8/default.jpg               True   \n",
      "2      https://i.ytimg.com/vi/10L1hZ9qa58/default.jpg              False   \n",
      "3      https://i.ytimg.com/vi/N1vE8iiEg64/default.jpg              False   \n",
      "4      https://i.ytimg.com/vi/kJzGH0PVQHQ/default.jpg              False   \n",
      "...                                               ...                ...   \n",
      "37347  https://i.ytimg.com/vi/iNHecA3PJCo/default.jpg              False   \n",
      "37348  https://i.ytimg.com/vi/dpPmPbhcslM/default.jpg              False   \n",
      "37349  https://i.ytimg.com/vi/mV6aztP58f8/default.jpg              False   \n",
      "37350  https://i.ytimg.com/vi/qxqDNP1bDEw/default.jpg              False   \n",
      "37351  https://i.ytimg.com/vi/wERgpPK44w0/default.jpg              False   \n",
      "\n",
      "       ratings_disabled  video_error_or_removed  \\\n",
      "0                 False                   False   \n",
      "1                 False                   False   \n",
      "2                 False                   False   \n",
      "3                 False                   False   \n",
      "4                 False                   False   \n",
      "...                 ...                     ...   \n",
      "37347             False                   False   \n",
      "37348             False                   False   \n",
      "37349             False                   False   \n",
      "37350             False                   False   \n",
      "37351             False                   False   \n",
      "\n",
      "                                             description  \n",
      "0      Presenting Sharry Mann latest Punjabi Song  Cu...  \n",
      "1      पीरियड्स के समय, पेट पर पति करता ऐसा, देखकर दं...  \n",
      "2      Watch Stylish Star Allu Arjun @ ChaySam Weddin...  \n",
      "3      This video showcases the difference between pe...  \n",
      "4      why Samantha became EMOTIONAL @ Samantha naga ...  \n",
      "...                                                  ...  \n",
      "37347  PRG Music & RDC Rajasthani presents फेकू आशिक़...  \n",
      "37348  Flowers - A R Rahman Show,Book your Tickets He...  \n",
      "37349  Subscribe to Mazhavil Manorama now for your da...  \n",
      "37350  Nuabohu : Story of a rustic village girl who w...  \n",
      "37351  Check out Ee Nagaraniki Emaindi Trailer #EeNag...  \n",
      "\n",
      "[37352 rows x 16 columns]\n"
     ]
    }
   ],
   "source": [
    "df = pd.read_csv(\"INvideos.csv\")\n",
    "print(df)"
   ]
  },
  {
   "cell_type": "code",
   "execution_count": 4,
   "id": "e5c011e1-2a53-43b8-907e-1249810b694e",
   "metadata": {},
   "outputs": [
    {
     "data": {
      "text/plain": [
       "Index(['video_id', 'trending_date', 'title', 'channel_title', 'category_id',\n",
       "       'publish_time', 'tags', 'views', 'likes', 'dislikes', 'comment_count',\n",
       "       'thumbnail_link', 'comments_disabled', 'ratings_disabled',\n",
       "       'video_error_or_removed', 'description'],\n",
       "      dtype='object')"
      ]
     },
     "execution_count": 4,
     "metadata": {},
     "output_type": "execute_result"
    }
   ],
   "source": [
    "df.columns"
   ]
  },
  {
   "cell_type": "code",
   "execution_count": 5,
   "id": "0b1acaab-9456-43a1-b456-31294af4292d",
   "metadata": {},
   "outputs": [
    {
     "data": {
      "text/plain": [
       "video_id                  False\n",
       "trending_date             False\n",
       "title                     False\n",
       "channel_title             False\n",
       "category_id               False\n",
       "publish_time              False\n",
       "tags                      False\n",
       "views                     False\n",
       "likes                     False\n",
       "dislikes                  False\n",
       "comment_count             False\n",
       "thumbnail_link            False\n",
       "comments_disabled         False\n",
       "ratings_disabled          False\n",
       "video_error_or_removed    False\n",
       "description                True\n",
       "dtype: bool"
      ]
     },
     "execution_count": 5,
     "metadata": {},
     "output_type": "execute_result"
    }
   ],
   "source": [
    "df. isnull().any()"
   ]
  },
  {
   "cell_type": "code",
   "execution_count": 6,
   "id": "ea52d79a-4b02-4f4d-8260-8ed1dd295fef",
   "metadata": {},
   "outputs": [],
   "source": [
    "df[\"description\"] = df[\"description\"].fillna(value = \"\")"
   ]
  },
  {
   "cell_type": "code",
   "execution_count": 7,
   "id": "4ea4e6cd-1f71-4c60-8e9f-bb600847a6cd",
   "metadata": {},
   "outputs": [
    {
     "data": {
      "text/plain": [
       "video_id                  False\n",
       "trending_date             False\n",
       "title                     False\n",
       "channel_title             False\n",
       "category_id               False\n",
       "publish_time              False\n",
       "tags                      False\n",
       "views                     False\n",
       "likes                     False\n",
       "dislikes                  False\n",
       "comment_count             False\n",
       "thumbnail_link            False\n",
       "comments_disabled         False\n",
       "ratings_disabled          False\n",
       "video_error_or_removed    False\n",
       "description               False\n",
       "dtype: bool"
      ]
     },
     "execution_count": 7,
     "metadata": {},
     "output_type": "execute_result"
    }
   ],
   "source": [
    "df.isnull().any()"
   ]
  },
  {
   "cell_type": "code",
   "execution_count": 8,
   "id": "b07663f8-26bb-4d2c-94a7-ce14ce1f4a97",
   "metadata": {},
   "outputs": [
    {
     "name": "stdout",
     "output_type": "stream",
     "text": [
      "<class 'pandas.core.frame.DataFrame'>\n",
      "RangeIndex: 37352 entries, 0 to 37351\n",
      "Data columns (total 16 columns):\n",
      " #   Column                  Non-Null Count  Dtype \n",
      "---  ------                  --------------  ----- \n",
      " 0   video_id                37352 non-null  object\n",
      " 1   trending_date           37352 non-null  object\n",
      " 2   title                   37352 non-null  object\n",
      " 3   channel_title           37352 non-null  object\n",
      " 4   category_id             37352 non-null  int64 \n",
      " 5   publish_time            37352 non-null  object\n",
      " 6   tags                    37352 non-null  object\n",
      " 7   views                   37352 non-null  int64 \n",
      " 8   likes                   37352 non-null  int64 \n",
      " 9   dislikes                37352 non-null  int64 \n",
      " 10  comment_count           37352 non-null  int64 \n",
      " 11  thumbnail_link          37352 non-null  object\n",
      " 12  comments_disabled       37352 non-null  bool  \n",
      " 13  ratings_disabled        37352 non-null  bool  \n",
      " 14  video_error_or_removed  37352 non-null  bool  \n",
      " 15  description             37352 non-null  object\n",
      "dtypes: bool(3), int64(5), object(8)\n",
      "memory usage: 3.8+ MB\n"
     ]
    }
   ],
   "source": [
    "df.info()\n"
   ]
  },
  {
   "cell_type": "code",
   "execution_count": 9,
   "id": "fa5b43b6-b393-494c-ac5e-b481eb287935",
   "metadata": {},
   "outputs": [],
   "source": [
    "cdf = df['trending_date'].apply(lambda x :  '20'+x[:2]).value_counts().to_frame().reset_index().rename(columns= {\"index\":\"year\", \"trending_date\":\"year\", \"count\":\"no_of_videos\"})"
   ]
  },
  {
   "cell_type": "code",
   "execution_count": 10,
   "id": "316a3314-87ee-4fb5-b05a-717b198ec9e6",
   "metadata": {},
   "outputs": [
    {
     "name": "stdout",
     "output_type": "stream",
     "text": [
      "   year  no_of_videos\n",
      "0  2018         28293\n",
      "1  2017          9059\n"
     ]
    }
   ],
   "source": [
    "print(cdf)"
   ]
  },
  {
   "cell_type": "code",
   "execution_count": 11,
   "id": "db6ef5a0-cdb8-4655-a095-da0603056457",
   "metadata": {},
   "outputs": [
    {
     "data": {
      "text/plain": [
       "<BarContainer object of 2 artists>"
      ]
     },
     "execution_count": 11,
     "metadata": {},
     "output_type": "execute_result"
    },
    {
     "data": {
      "image/png": "[encoded data removed]",
      "text/plain": [
       "<Figure size 640x480 with 1 Axes>"
      ]
     },
     "metadata": {},
     "output_type": "display_data"
    }
   ],
   "source": [
    "# bar chart\n",
    "plt.bar(cdf['year'],cdf['no_of_videos'])"
   ]
  },
  {
   "cell_type": "code",
   "execution_count": 12,
   "id": "122bbbee-5df0-4532-b0cd-262addcac788",
   "metadata": {},
   "outputs": [
    {
     "data": {
      "text/plain": [
       "trending_date\n",
       "2018    0.757469\n",
       "2017    0.242531\n",
       "Name: proportion, dtype: float64"
      ]
     },
     "execution_count": 12,
     "metadata": {},
     "output_type": "execute_result"
    }
   ],
   "source": [
    "df['trending_date'].apply(lambda x : '20'+x[:2]).value_counts(normalize = True)"
   ]
  },
  {
   "cell_type": "code",
   "execution_count": 13,
   "id": "822f92c0-2f3c-4aa3-a435-01a5805e8b5f",
   "metadata": {},
   "outputs": [
    {
     "data": {
      "text/html": [
       "<div>\n",
       "<style scoped>\n",
       "    .dataframe tbody tr th:only-of-type {\n",
       "        vertical-align: middle;\n",
       "    }\n",
       "\n",
       "    .dataframe tbody tr th {\n",
       "        vertical-align: top;\n",
       "    }\n",
       "\n",
       "    .dataframe thead th {\n",
       "        text-align: right;\n",
       "    }\n",
       "</style>\n",
       "<table border=\"1\" class=\"dataframe\">\n",
       "  <thead>\n",
       "    <tr style=\"text-align: right;\">\n",
       "      <th></th>\n",
       "      <th>category_id</th>\n",
       "      <th>views</th>\n",
       "      <th>likes</th>\n",
       "      <th>dislikes</th>\n",
       "      <th>comment_count</th>\n",
       "    </tr>\n",
       "  </thead>\n",
       "  <tbody>\n",
       "    <tr>\n",
       "      <th>count</th>\n",
       "      <td>37352.000000</td>\n",
       "      <td>3.735200e+04</td>\n",
       "      <td>3.735200e+04</td>\n",
       "      <td>3.735200e+04</td>\n",
       "      <td>37352.00000</td>\n",
       "    </tr>\n",
       "    <tr>\n",
       "      <th>mean</th>\n",
       "      <td>21.576596</td>\n",
       "      <td>1.060478e+06</td>\n",
       "      <td>2.708272e+04</td>\n",
       "      <td>1.665082e+03</td>\n",
       "      <td>2676.99743</td>\n",
       "    </tr>\n",
       "    <tr>\n",
       "      <th>std</th>\n",
       "      <td>6.556593</td>\n",
       "      <td>3.184932e+06</td>\n",
       "      <td>9.714510e+04</td>\n",
       "      <td>1.607617e+04</td>\n",
       "      <td>14868.31713</td>\n",
       "    </tr>\n",
       "    <tr>\n",
       "      <th>min</th>\n",
       "      <td>1.000000</td>\n",
       "      <td>4.024000e+03</td>\n",
       "      <td>0.000000e+00</td>\n",
       "      <td>0.000000e+00</td>\n",
       "      <td>0.00000</td>\n",
       "    </tr>\n",
       "    <tr>\n",
       "      <th>25%</th>\n",
       "      <td>23.000000</td>\n",
       "      <td>1.239155e+05</td>\n",
       "      <td>8.640000e+02</td>\n",
       "      <td>1.080000e+02</td>\n",
       "      <td>81.00000</td>\n",
       "    </tr>\n",
       "    <tr>\n",
       "      <th>50%</th>\n",
       "      <td>24.000000</td>\n",
       "      <td>3.045860e+05</td>\n",
       "      <td>3.069000e+03</td>\n",
       "      <td>3.260000e+02</td>\n",
       "      <td>329.00000</td>\n",
       "    </tr>\n",
       "    <tr>\n",
       "      <th>75%</th>\n",
       "      <td>24.000000</td>\n",
       "      <td>7.992912e+05</td>\n",
       "      <td>1.377425e+04</td>\n",
       "      <td>1.019250e+03</td>\n",
       "      <td>1285.00000</td>\n",
       "    </tr>\n",
       "    <tr>\n",
       "      <th>max</th>\n",
       "      <td>43.000000</td>\n",
       "      <td>1.254322e+08</td>\n",
       "      <td>2.912710e+06</td>\n",
       "      <td>1.545017e+06</td>\n",
       "      <td>827755.00000</td>\n",
       "    </tr>\n",
       "  </tbody>\n",
       "</table>\n",
       "</div>"
      ],
      "text/plain": [
       "        category_id         views         likes      dislikes  comment_count\n",
       "count  37352.000000  3.735200e+04  3.735200e+04  3.735200e+04    37352.00000\n",
       "mean      21.576596  1.060478e+06  2.708272e+04  1.665082e+03     2676.99743\n",
       "std        6.556593  3.184932e+06  9.714510e+04  1.607617e+04    14868.31713\n",
       "min        1.000000  4.024000e+03  0.000000e+00  0.000000e+00        0.00000\n",
       "25%       23.000000  1.239155e+05  8.640000e+02  1.080000e+02       81.00000\n",
       "50%       24.000000  3.045860e+05  3.069000e+03  3.260000e+02      329.00000\n",
       "75%       24.000000  7.992912e+05  1.377425e+04  1.019250e+03     1285.00000\n",
       "max       43.000000  1.254322e+08  2.912710e+06  1.545017e+06   827755.00000"
      ]
     },
     "execution_count": 13,
     "metadata": {},
     "output_type": "execute_result"
    }
   ],
   "source": [
    "df.describe()"
   ]
  },
  {
   "cell_type": "code",
   "execution_count": 14,
   "id": "209345fc-9eaf-439e-9afd-2a9d36096d2f",
   "metadata": {},
   "outputs": [
    {
     "data": {
      "text/plain": [
       "array([[<Axes: title={'center': 'views'}>]], dtype=object)"
      ]
     },
     "execution_count": 14,
     "metadata": {},
     "output_type": "execute_result"
    },
    {
     "data": {
      "image/png": "[encoded data removed]",
      "text/plain": [
       "<Figure size 640x480 with 1 Axes>"
      ]
     },
     "metadata": {},
     "output_type": "display_data"
    }
   ],
   "source": [
    "df.hist('views')"
   ]
  },
  {
   "cell_type": "code",
   "execution_count": 15,
   "id": "e3dd635d-285d-4775-baf7-a68356bee8d7",
   "metadata": {},
   "outputs": [
    {
     "data": {
      "text/plain": [
       "29720"
      ]
     },
     "execution_count": 15,
     "metadata": {},
     "output_type": "execute_result"
    }
   ],
   "source": [
    "#number of videos less than 1mil. views\n",
    "df[df['views']<1e6]['views'].count()"
   ]
  },
  {
   "cell_type": "code",
   "execution_count": 16,
   "id": "7c225bc6-67c3-4992-b917-b647cf46efa8",
   "metadata": {},
   "outputs": [
    {
     "data": {
      "text/plain": [
       "array([[<Axes: title={'center': 'likes'}>]], dtype=object)"
      ]
     },
     "execution_count": 16,
     "metadata": {},
     "output_type": "execute_result"
    },
    {
     "data": {
      "image/png": "[encoded data removed]",
      "text/plain": [
       "<Figure size 640x480 with 1 Axes>"
      ]
     },
     "metadata": {},
     "output_type": "display_data"
    }
   ],
   "source": [
    "df.hist('likes')"
   ]
  },
  {
   "cell_type": "code",
   "execution_count": 17,
   "id": "463e6c08-74a1-4c12-9691-f67417e97f2e",
   "metadata": {},
   "outputs": [
    {
     "data": {
      "text/plain": [
       "10.583101306489612"
      ]
     },
     "execution_count": 17,
     "metadata": {},
     "output_type": "execute_result"
    }
   ],
   "source": [
    "# percentage of videos with >50k likes\n",
    "df[df['likes']>50000]['likes'].count()/df['likes'].count()*100"
   ]
  },
  {
   "cell_type": "code",
   "execution_count": 18,
   "id": "7ff037b5-8848-4804-8b25-7fbb9fccd879",
   "metadata": {},
   "outputs": [],
   "source": [
    "#how do we calculate the title length\n",
    "df['title_length'] = df['title'].apply(lambda x : len(x))"
   ]
  },
  {
   "cell_type": "code",
   "execution_count": 19,
   "id": "c74841bb-030f-493b-8823-6cf5f76eb00f",
   "metadata": {},
   "outputs": [
    {
     "data": {
      "text/plain": [
       "Index(['video_id', 'trending_date', 'title', 'channel_title', 'category_id',\n",
       "       'publish_time', 'tags', 'views', 'likes', 'dislikes', 'comment_count',\n",
       "       'thumbnail_link', 'comments_disabled', 'ratings_disabled',\n",
       "       'video_error_or_removed', 'description', 'title_length'],\n",
       "      dtype='object')"
      ]
     },
     "execution_count": 19,
     "metadata": {},
     "output_type": "execute_result"
    }
   ],
   "source": [
    "df.columns"
   ]
  },
  {
   "cell_type": "code",
   "execution_count": 19,
   "id": "c883f457-68b7-406e-9d28-5d561ededa2d",
   "metadata": {},
   "outputs": [
    {
     "data": {
      "text/html": [
       "<div>\n",
       "<style scoped>\n",
       "    .dataframe tbody tr th:only-of-type {\n",
       "        vertical-align: middle;\n",
       "    }\n",
       "\n",
       "    .dataframe tbody tr th {\n",
       "        vertical-align: top;\n",
       "    }\n",
       "\n",
       "    .dataframe thead th {\n",
       "        text-align: right;\n",
       "    }\n",
       "</style>\n",
       "<table border=\"1\" class=\"dataframe\">\n",
       "  <thead>\n",
       "    <tr style=\"text-align: right;\">\n",
       "      <th></th>\n",
       "      <th>video_id</th>\n",
       "      <th>trending_date</th>\n",
       "      <th>title</th>\n",
       "      <th>channel_title</th>\n",
       "      <th>category_id</th>\n",
       "      <th>publish_time</th>\n",
       "      <th>tags</th>\n",
       "      <th>views</th>\n",
       "      <th>likes</th>\n",
       "      <th>dislikes</th>\n",
       "      <th>comment_count</th>\n",
       "      <th>thumbnail_link</th>\n",
       "      <th>comments_disabled</th>\n",
       "      <th>ratings_disabled</th>\n",
       "      <th>video_error_or_removed</th>\n",
       "      <th>description</th>\n",
       "      <th>title_length</th>\n",
       "    </tr>\n",
       "  </thead>\n",
       "  <tbody>\n",
       "    <tr>\n",
       "      <th>0</th>\n",
       "      <td>kzwfHumJyYc</td>\n",
       "      <td>17.14.11</td>\n",
       "      <td>Sharry Mann: Cute Munda ( Song Teaser) | Parmi...</td>\n",
       "      <td>Lokdhun Punjabi</td>\n",
       "      <td>1</td>\n",
       "      <td>2017-11-12T12:20:39.000Z</td>\n",
       "      <td>sharry mann|\"sharry mann new song\"|\"sharry man...</td>\n",
       "      <td>1096327</td>\n",
       "      <td>33966</td>\n",
       "      <td>798</td>\n",
       "      <td>882</td>\n",
       "      <td>https://i.ytimg.com/vi/kzwfHumJyYc/default.jpg</td>\n",
       "      <td>False</td>\n",
       "      <td>False</td>\n",
       "      <td>False</td>\n",
       "      <td>Presenting Sharry Mann latest Punjabi Song  Cu...</td>\n",
       "      <td>81</td>\n",
       "    </tr>\n",
       "    <tr>\n",
       "      <th>1</th>\n",
       "      <td>zUZ1z7FwLc8</td>\n",
       "      <td>17.14.11</td>\n",
       "      <td>पीरियड्स के समय, पेट पर पति करता ऐसा, देखकर दं...</td>\n",
       "      <td>HJ NEWS</td>\n",
       "      <td>25</td>\n",
       "      <td>2017-11-13T05:43:56.000Z</td>\n",
       "      <td>पीरियड्स के समय|\"पेट पर पति करता ऐसा\"|\"देखकर द...</td>\n",
       "      <td>590101</td>\n",
       "      <td>735</td>\n",
       "      <td>904</td>\n",
       "      <td>0</td>\n",
       "      <td>https://i.ytimg.com/vi/zUZ1z7FwLc8/default.jpg</td>\n",
       "      <td>True</td>\n",
       "      <td>False</td>\n",
       "      <td>False</td>\n",
       "      <td>पीरियड्स के समय, पेट पर पति करता ऐसा, देखकर दं...</td>\n",
       "      <td>58</td>\n",
       "    </tr>\n",
       "    <tr>\n",
       "      <th>2</th>\n",
       "      <td>10L1hZ9qa58</td>\n",
       "      <td>17.14.11</td>\n",
       "      <td>Stylish Star Allu Arjun @ ChaySam Wedding Rece...</td>\n",
       "      <td>TFPC</td>\n",
       "      <td>24</td>\n",
       "      <td>2017-11-12T15:48:08.000Z</td>\n",
       "      <td>Stylish Star Allu Arjun @ ChaySam Wedding Rece...</td>\n",
       "      <td>473988</td>\n",
       "      <td>2011</td>\n",
       "      <td>243</td>\n",
       "      <td>149</td>\n",
       "      <td>https://i.ytimg.com/vi/10L1hZ9qa58/default.jpg</td>\n",
       "      <td>False</td>\n",
       "      <td>False</td>\n",
       "      <td>False</td>\n",
       "      <td>Watch Stylish Star Allu Arjun @ ChaySam Weddin...</td>\n",
       "      <td>58</td>\n",
       "    </tr>\n",
       "    <tr>\n",
       "      <th>3</th>\n",
       "      <td>N1vE8iiEg64</td>\n",
       "      <td>17.14.11</td>\n",
       "      <td>Eruma Saani | Tamil vs English</td>\n",
       "      <td>Eruma Saani</td>\n",
       "      <td>23</td>\n",
       "      <td>2017-11-12T07:08:48.000Z</td>\n",
       "      <td>Eruma Saani|\"Tamil Comedy Videos\"|\"Films\"|\"Mov...</td>\n",
       "      <td>1242680</td>\n",
       "      <td>70353</td>\n",
       "      <td>1624</td>\n",
       "      <td>2684</td>\n",
       "      <td>https://i.ytimg.com/vi/N1vE8iiEg64/default.jpg</td>\n",
       "      <td>False</td>\n",
       "      <td>False</td>\n",
       "      <td>False</td>\n",
       "      <td>This video showcases the difference between pe...</td>\n",
       "      <td>30</td>\n",
       "    </tr>\n",
       "    <tr>\n",
       "      <th>4</th>\n",
       "      <td>kJzGH0PVQHQ</td>\n",
       "      <td>17.14.11</td>\n",
       "      <td>why Samantha became EMOTIONAL @ Samantha naga ...</td>\n",
       "      <td>Filmylooks</td>\n",
       "      <td>24</td>\n",
       "      <td>2017-11-13T01:14:16.000Z</td>\n",
       "      <td>Filmylooks|\"latest news\"|\"telugu movies\"|\"telu...</td>\n",
       "      <td>464015</td>\n",
       "      <td>492</td>\n",
       "      <td>293</td>\n",
       "      <td>66</td>\n",
       "      <td>https://i.ytimg.com/vi/kJzGH0PVQHQ/default.jpg</td>\n",
       "      <td>False</td>\n",
       "      <td>False</td>\n",
       "      <td>False</td>\n",
       "      <td>why Samantha became EMOTIONAL @ Samantha naga ...</td>\n",
       "      <td>88</td>\n",
       "    </tr>\n",
       "  </tbody>\n",
       "</table>\n",
       "</div>"
      ],
      "text/plain": [
       "      video_id trending_date  \\\n",
       "0  kzwfHumJyYc      17.14.11   \n",
       "1  zUZ1z7FwLc8      17.14.11   \n",
       "2  10L1hZ9qa58      17.14.11   \n",
       "3  N1vE8iiEg64      17.14.11   \n",
       "4  kJzGH0PVQHQ      17.14.11   \n",
       "\n",
       "                                               title    channel_title  \\\n",
       "0  Sharry Mann: Cute Munda ( Song Teaser) | Parmi...  Lokdhun Punjabi   \n",
       "1  पीरियड्स के समय, पेट पर पति करता ऐसा, देखकर दं...          HJ NEWS   \n",
       "2  Stylish Star Allu Arjun @ ChaySam Wedding Rece...             TFPC   \n",
       "3                     Eruma Saani | Tamil vs English      Eruma Saani   \n",
       "4  why Samantha became EMOTIONAL @ Samantha naga ...       Filmylooks   \n",
       "\n",
       "   category_id              publish_time  \\\n",
       "0            1  2017-11-12T12:20:39.000Z   \n",
       "1           25  2017-11-13T05:43:56.000Z   \n",
       "2           24  2017-11-12T15:48:08.000Z   \n",
       "3           23  2017-11-12T07:08:48.000Z   \n",
       "4           24  2017-11-13T01:14:16.000Z   \n",
       "\n",
       "                                                tags    views  likes  \\\n",
       "0  sharry mann|\"sharry mann new song\"|\"sharry man...  1096327  33966   \n",
       "1  पीरियड्स के समय|\"पेट पर पति करता ऐसा\"|\"देखकर द...   590101    735   \n",
       "2  Stylish Star Allu Arjun @ ChaySam Wedding Rece...   473988   2011   \n",
       "3  Eruma Saani|\"Tamil Comedy Videos\"|\"Films\"|\"Mov...  1242680  70353   \n",
       "4  Filmylooks|\"latest news\"|\"telugu movies\"|\"telu...   464015    492   \n",
       "\n",
       "   dislikes  comment_count                                  thumbnail_link  \\\n",
       "0       798            882  https://i.ytimg.com/vi/kzwfHumJyYc/default.jpg   \n",
       "1       904              0  https://i.ytimg.com/vi/zUZ1z7FwLc8/default.jpg   \n",
       "2       243            149  https://i.ytimg.com/vi/10L1hZ9qa58/default.jpg   \n",
       "3      1624           2684  https://i.ytimg.com/vi/N1vE8iiEg64/default.jpg   \n",
       "4       293             66  https://i.ytimg.com/vi/kJzGH0PVQHQ/default.jpg   \n",
       "\n",
       "   comments_disabled  ratings_disabled  video_error_or_removed  \\\n",
       "0              False             False                   False   \n",
       "1               True             False                   False   \n",
       "2              False             False                   False   \n",
       "3              False             False                   False   \n",
       "4              False             False                   False   \n",
       "\n",
       "                                         description  title_length  \n",
       "0  Presenting Sharry Mann latest Punjabi Song  Cu...            81  \n",
       "1  पीरियड्स के समय, पेट पर पति करता ऐसा, देखकर दं...            58  \n",
       "2  Watch Stylish Star Allu Arjun @ ChaySam Weddin...            58  \n",
       "3  This video showcases the difference between pe...            30  \n",
       "4  why Samantha became EMOTIONAL @ Samantha naga ...            88  "
      ]
     },
     "execution_count": 19,
     "metadata": {},
     "output_type": "execute_result"
    }
   ],
   "source": [
    "df.head (5)"
   ]
  },
  {
   "cell_type": "code",
   "execution_count": 20,
   "id": "a649b98c-5998-4a68-a0bb-721674da9043",
   "metadata": {},
   "outputs": [
    {
     "data": {
      "text/plain": [
       "<Axes: >"
      ]
     },
     "execution_count": 20,
     "metadata": {},
     "output_type": "execute_result"
    },
    {
     "data": {
      "image/png": "[encoded data removed]",
      "text/plain": [
       "<Figure size 640x480 with 1 Axes>"
      ]
     },
     "metadata": {},
     "output_type": "display_data"
    }
   ],
   "source": [
    "df.boxplot('title_length')"
   ]
  },
  {
   "cell_type": "code",
   "execution_count": 21,
   "id": "822a84cd-ef5b-4e55-a066-0dfa85067c2f",
   "metadata": {},
   "outputs": [
    {
     "data": {
      "text/plain": [
       "<matplotlib.collections.PathCollection at 0x2ac00d5ff50>"
      ]
     },
     "execution_count": 21,
     "metadata": {},
     "output_type": "execute_result"
    },
    {
     "data": {
      "image/png": "[encoded data removed]",
      "text/plain": [
       "<Figure size 640x480 with 1 Axes>"
      ]
     },
     "metadata": {},
     "output_type": "display_data"
    }
   ],
   "source": [
    "# is there any relation between title lengths and the no. of views\n",
    "\n",
    "plt.scatter(df['title_length'],df['views'])"
   ]
  },
  {
   "cell_type": "code",
   "execution_count": 3,
   "id": "4ff8e224-6686-4d5c-beb8-265e99df1599",
   "metadata": {},
   "outputs": [
    {
     "data": {
      "text/html": [
       "<div>\n",
       "<style scoped>\n",
       "    .dataframe tbody tr th:only-of-type {\n",
       "        vertical-align: middle;\n",
       "    }\n",
       "\n",
       "    .dataframe tbody tr th {\n",
       "        vertical-align: top;\n",
       "    }\n",
       "\n",
       "    .dataframe thead th {\n",
       "        text-align: right;\n",
       "    }\n",
       "</style>\n",
       "<table border=\"1\" class=\"dataframe\">\n",
       "  <thead>\n",
       "    <tr style=\"text-align: right;\">\n",
       "      <th></th>\n",
       "      <th>video_id</th>\n",
       "      <th>trending_date</th>\n",
       "      <th>title</th>\n",
       "      <th>channel_title</th>\n",
       "      <th>publish_time</th>\n",
       "      <th>tags</th>\n",
       "      <th>views</th>\n",
       "      <th>likes</th>\n",
       "      <th>dislikes</th>\n",
       "      <th>comment_count</th>\n",
       "      <th>thumbnail_link</th>\n",
       "      <th>comments_disabled</th>\n",
       "      <th>ratings_disabled</th>\n",
       "      <th>video_error_or_removed</th>\n",
       "      <th>description</th>\n",
       "    </tr>\n",
       "    <tr>\n",
       "      <th>category_id</th>\n",
       "      <th></th>\n",
       "      <th></th>\n",
       "      <th></th>\n",
       "      <th></th>\n",
       "      <th></th>\n",
       "      <th></th>\n",
       "      <th></th>\n",
       "      <th></th>\n",
       "      <th></th>\n",
       "      <th></th>\n",
       "      <th></th>\n",
       "      <th></th>\n",
       "      <th></th>\n",
       "      <th></th>\n",
       "      <th></th>\n",
       "    </tr>\n",
       "  </thead>\n",
       "  <tbody>\n",
       "    <tr>\n",
       "      <th>1</th>\n",
       "      <td>kzwfHumJyYcePO5M5DE01IMF9ovM9y0PExjFKfAudCOotz...</td>\n",
       "      <td>17.14.1117.14.1117.14.1117.14.1117.14.1117.14....</td>\n",
       "      <td>Sharry Mann: Cute Munda ( Song Teaser) | Parmi...</td>\n",
       "      <td>Lokdhun PunjabiYRFDREAMS N BEYONDDream Warrior...</td>\n",
       "      <td>2017-11-12T12:20:39.000Z2017-11-07T06:01:50.00...</td>\n",
       "      <td>sharry mann|\"sharry mann new song\"|\"sharry man...</td>\n",
       "      <td>3847149504</td>\n",
       "      <td>69241553</td>\n",
       "      <td>4315081</td>\n",
       "      <td>5789446</td>\n",
       "      <td>https://i.ytimg.com/vi/kzwfHumJyYc/default.jpg...</td>\n",
       "      <td>71</td>\n",
       "      <td>11</td>\n",
       "      <td>11</td>\n",
       "      <td>Presenting Sharry Mann latest Punjabi Song  Cu...</td>\n",
       "    </tr>\n",
       "    <tr>\n",
       "      <th>2</th>\n",
       "      <td>NDuOXWe4KW8Ik9JXtQDqmUNDuOXWe4KW8Ik9JXtQDqmUND...</td>\n",
       "      <td>17.14.1117.15.1117.15.1117.16.1117.16.1117.18....</td>\n",
       "      <td>உலக அழிவை முன்பே தெரிந்து கொள்ளும் 5 மர்ம அறிக...</td>\n",
       "      <td>Kollywood TalkModi again in 2019Kollywood Talk...</td>\n",
       "      <td>2017-11-13T07:12:19.000Z2017-11-13T20:30:00.00...</td>\n",
       "      <td>5 amazing signs world end|\"amazing facts about...</td>\n",
       "      <td>30384725</td>\n",
       "      <td>539571</td>\n",
       "      <td>22284</td>\n",
       "      <td>86488</td>\n",
       "      <td>https://i.ytimg.com/vi/NDuOXWe4KW8/default.jpg...</td>\n",
       "      <td>9</td>\n",
       "      <td>2</td>\n",
       "      <td>0</td>\n",
       "      <td>உலக அழிவை முன்பே தெரிந்து கொள்ளும் 5 அறிகுறிகள...</td>\n",
       "    </tr>\n",
       "    <tr>\n",
       "      <th>10</th>\n",
       "      <td>7MxiQ4v0EnEc64I9HNpiOYzOOmEDwPJX0so0ccfs-psI01...</td>\n",
       "      <td>17.14.1117.14.1117.14.1117.14.1117.14.1117.14....</td>\n",
       "      <td>Daang ( Full Video ) | Mankirt Aulakh | Sukh S...</td>\n",
       "      <td>Speed RecordsT-SeriesWhite Hill MusicVS RECORD...</td>\n",
       "      <td>2017-11-11T16:41:15.000Z2017-11-11T06:14:19.00...</td>\n",
       "      <td>punjabi songs|\"punjabi bhangra\"|\"punjabi music...</td>\n",
       "      <td>10150844485</td>\n",
       "      <td>254328536</td>\n",
       "      <td>15030992</td>\n",
       "      <td>17595070</td>\n",
       "      <td>https://i.ytimg.com/vi/7MxiQ4v0EnE/default.jpg...</td>\n",
       "      <td>7</td>\n",
       "      <td>8</td>\n",
       "      <td>0</td>\n",
       "      <td>Song - Daang\\nSinger - Mankirt Aulakh\\nFaceboo...</td>\n",
       "    </tr>\n",
       "    <tr>\n",
       "      <th>15</th>\n",
       "      <td>XlCHEONTqncXlCHEONTqnc#NAME?</td>\n",
       "      <td>17.18.1117.19.1118.24.03</td>\n",
       "      <td>WE ARE ALL GOING TO D1E.WE ARE ALL GOING TO D1...</td>\n",
       "      <td>PewDiePiePewDiePieKaumudy</td>\n",
       "      <td>2017-11-16T17:53:31.000Z2017-11-16T17:53:31.00...</td>\n",
       "      <td>[none][none]Snake|\"Vavasuresh\"|\"vavasureshvide...</td>\n",
       "      <td>4879743</td>\n",
       "      <td>362534</td>\n",
       "      <td>6488</td>\n",
       "      <td>42056</td>\n",
       "      <td>https://i.ytimg.com/vi/XlCHEONTqnc/default.jpg...</td>\n",
       "      <td>0</td>\n",
       "      <td>0</td>\n",
       "      <td>0</td>\n",
       "      <td>Join my giveaway for a BEAST Origin computer! ...</td>\n",
       "    </tr>\n",
       "    <tr>\n",
       "      <th>17</th>\n",
       "      <td>efpUCPITNmwysik6z44B1EPnYrL1rK-z8ysik6z44B1EEx...</td>\n",
       "      <td>17.14.1117.15.1117.15.1117.16.1117.16.1117.17....</td>\n",
       "      <td>Russia Vs Argentina 0-1 - All Goals &amp; Highligh...</td>\n",
       "      <td>NugoBasilaiaaWWETv9 GujaratiWWEGOLAZO TVKabadd...</td>\n",
       "      <td>2017-11-11T14:55:25.000Z2017-11-14T02:34:14.00...</td>\n",
       "      <td>Russia Vs Argentina 0-1 - All Goals &amp; Highligh...</td>\n",
       "      <td>1379949159</td>\n",
       "      <td>32969986</td>\n",
       "      <td>1316379</td>\n",
       "      <td>2717679</td>\n",
       "      <td>https://i.ytimg.com/vi/efpUCPITNmw/default.jpg...</td>\n",
       "      <td>8</td>\n",
       "      <td>10</td>\n",
       "      <td>0</td>\n",
       "      <td>Russia Vs Argentina 0-1 - All Goals &amp; Highligh...</td>\n",
       "    </tr>\n",
       "    <tr>\n",
       "      <th>19</th>\n",
       "      <td>0SMKG3SRGzQ0SMKG3SRGzQ0SMKG3SRGzQh4DDlNQyt24h4...</td>\n",
       "      <td>17.14.1117.15.1117.16.1117.02.1217.03.1218.30....</td>\n",
       "      <td>Rana hungama at #ChaySam Wedding Reception || ...</td>\n",
       "      <td>TV9 TeluguTV9 TeluguTV9 TeluguUseful Tamil cha...</td>\n",
       "      <td>2017-11-12T16:08:13.000Z2017-11-12T16:08:13.00...</td>\n",
       "      <td>Rana hungama at #ChaySam Wedding Reception || ...</td>\n",
       "      <td>1374342</td>\n",
       "      <td>16939</td>\n",
       "      <td>616</td>\n",
       "      <td>2448</td>\n",
       "      <td>https://i.ytimg.com/vi/0SMKG3SRGzQ/default.jpg...</td>\n",
       "      <td>0</td>\n",
       "      <td>0</td>\n",
       "      <td>0</td>\n",
       "      <td>Rana hungama at #ChaySam Wedding Reception || ...</td>\n",
       "    </tr>\n",
       "    <tr>\n",
       "      <th>20</th>\n",
       "      <td>jfrGsxoQJncjRT74op6xakjRT74op6xakjRT74op6xakjR...</td>\n",
       "      <td>17.07.1217.09.1217.10.1217.11.1217.12.1217.18....</td>\n",
       "      <td>Clash Royale: World Finals 2018 Reveal!Clash R...</td>\n",
       "      <td>Clash RoyaleClash RoyaleClash RoyaleClash Roya...</td>\n",
       "      <td>2017-12-05T13:43:12.000Z2017-12-08T15:14:54.00...</td>\n",
       "      <td>Clash Royale|\"Clash Royale Game\"|\"Supercell\"|\"...</td>\n",
       "      <td>274722506</td>\n",
       "      <td>6707728</td>\n",
       "      <td>341616</td>\n",
       "      <td>623839</td>\n",
       "      <td>https://i.ytimg.com/vi/jfrGsxoQJnc/default.jpg...</td>\n",
       "      <td>0</td>\n",
       "      <td>0</td>\n",
       "      <td>0</td>\n",
       "      <td>Subscribe! http://supr.cl/SubRoyale\\n\\n\\nEnter...</td>\n",
       "    </tr>\n",
       "    <tr>\n",
       "      <th>22</th>\n",
       "      <td>7gShaSuK_PYMqfh8_Uk1eMMXH7yFFl3fETuOBfQRXwhQXj...</td>\n",
       "      <td>17.14.1117.14.1117.14.1117.14.1117.14.1117.14....</td>\n",
       "      <td>ஜெயலலிதாவின் உயில் சிக்கியது  அப்பல்லோ சி.டி.ய...</td>\n",
       "      <td>Next GenETV JabardasthAstroMitramBrijnaari Sum...</td>\n",
       "      <td>2017-11-13T06:52:47.000Z2017-11-10T20:38:52.00...</td>\n",
       "      <td>nextgen|\"sasikala\"|\"sasikala natarajan\"|\"aiadm...</td>\n",
       "      <td>1364104242</td>\n",
       "      <td>23194729</td>\n",
       "      <td>1728388</td>\n",
       "      <td>2661920</td>\n",
       "      <td>https://i.ytimg.com/vi/7gShaSuK_PY/default.jpg...</td>\n",
       "      <td>163</td>\n",
       "      <td>107</td>\n",
       "      <td>0</td>\n",
       "      <td>ஜெயலலிதாவின் உயில் சிக்கியது \\nஅப்பல்லோ சி.டி....</td>\n",
       "    </tr>\n",
       "    <tr>\n",
       "      <th>23</th>\n",
       "      <td>N1vE8iiEg64ep3SLMuRbvgCLl1RbxDRAsYvp9jUJtMuY3d...</td>\n",
       "      <td>17.14.1117.14.1117.14.1117.14.1117.14.1117.14....</td>\n",
       "      <td>Eruma Saani | Tamil vs EnglishTYPES OF STUDENT...</td>\n",
       "      <td>Eruma SaaniElvish yadavTroubleSeekerTeamETV Pl...</td>\n",
       "      <td>2017-11-12T07:08:48.000Z2017-11-13T11:26:02.00...</td>\n",
       "      <td>Eruma Saani|\"Tamil Comedy Videos\"|\"Films\"|\"Mov...</td>\n",
       "      <td>2887672070</td>\n",
       "      <td>174114686</td>\n",
       "      <td>6976508</td>\n",
       "      <td>13806968</td>\n",
       "      <td>https://i.ytimg.com/vi/N1vE8iiEg64/default.jpg...</td>\n",
       "      <td>0</td>\n",
       "      <td>0</td>\n",
       "      <td>0</td>\n",
       "      <td>This video showcases the difference between pe...</td>\n",
       "    </tr>\n",
       "    <tr>\n",
       "      <th>24</th>\n",
       "      <td>10L1hZ9qa58kJzGH0PVQHQil_pSa5l98wKObFEYCaRx8g8...</td>\n",
       "      <td>17.14.1117.14.1117.14.1117.14.1117.14.1117.14....</td>\n",
       "      <td>Stylish Star Allu Arjun @ ChaySam Wedding Rece...</td>\n",
       "      <td>TFPCFilmylooksDil RajuTop Telugu MediaJump Cut...</td>\n",
       "      <td>2017-11-12T15:48:08.000Z2017-11-13T01:14:16.00...</td>\n",
       "      <td>Stylish Star Allu Arjun @ ChaySam Wedding Rece...</td>\n",
       "      <td>16120390974</td>\n",
       "      <td>396146637</td>\n",
       "      <td>27428929</td>\n",
       "      <td>42199473</td>\n",
       "      <td>https://i.ytimg.com/vi/10L1hZ9qa58/default.jpg...</td>\n",
       "      <td>453</td>\n",
       "      <td>203</td>\n",
       "      <td>0</td>\n",
       "      <td>Watch Stylish Star Allu Arjun @ ChaySam Weddin...</td>\n",
       "    </tr>\n",
       "    <tr>\n",
       "      <th>25</th>\n",
       "      <td>zUZ1z7FwLc8Prb_osSVE0MtFM-GNSeXzwjElRtesCnlAq3...</td>\n",
       "      <td>17.14.1117.14.1117.14.1117.14.1117.14.1117.14....</td>\n",
       "      <td>पीरियड्स के समय, पेट पर पति करता ऐसा, देखकर दं...</td>\n",
       "      <td>HJ NEWSABN TeluguHindi KhabarSathiyam NewsNTV ...</td>\n",
       "      <td>2017-11-13T05:43:56.000Z2017-11-13T09:51:59.00...</td>\n",
       "      <td>पीरियड्स के समय|\"पेट पर पति करता ऐसा\"|\"देखकर द...</td>\n",
       "      <td>1994263812</td>\n",
       "      <td>15545971</td>\n",
       "      <td>2737604</td>\n",
       "      <td>2954198</td>\n",
       "      <td>https://i.ytimg.com/vi/zUZ1z7FwLc8/default.jpg...</td>\n",
       "      <td>255</td>\n",
       "      <td>277</td>\n",
       "      <td>0</td>\n",
       "      <td>पीरियड्स के समय, पेट पर पति करता ऐसा, देखकर दं...</td>\n",
       "    </tr>\n",
       "    <tr>\n",
       "      <th>26</th>\n",
       "      <td>qP67alYxSiU4tEqzEo5uKYMwn4zdD51KcU3xLOo-CNwoPV...</td>\n",
       "      <td>17.14.1117.14.1117.14.1117.14.1117.14.1117.14....</td>\n",
       "      <td>కెమెరాలో రికార్డ్ అయిన ఈ అద్భుతాన్ని చూస్తే ఆశ...</td>\n",
       "      <td>HOTNEWS TELUGUSumanTVMagical NuskheTroom Troom...</td>\n",
       "      <td>2017-11-12T03:53:49.000Z2017-11-13T03:30:01.00...</td>\n",
       "      <td>Miracles Caught on Camera|\"Miracles Caught on ...</td>\n",
       "      <td>737343593</td>\n",
       "      <td>7889210</td>\n",
       "      <td>859807</td>\n",
       "      <td>748899</td>\n",
       "      <td>https://i.ytimg.com/vi/qP67alYxSiU/default.jpg...</td>\n",
       "      <td>30</td>\n",
       "      <td>16</td>\n",
       "      <td>0</td>\n",
       "      <td>Watch ► ఈ రోజు కార్తీకమాస చివరి సోమవారం ఇది వి...</td>\n",
       "    </tr>\n",
       "    <tr>\n",
       "      <th>27</th>\n",
       "      <td>Ukjn7A9L7vYhDUel4MX-Fwy6YY8-k9Cwg7BUEKSFwk7QSD...</td>\n",
       "      <td>17.14.1117.14.1117.14.1117.14.1117.14.1117.14....</td>\n",
       "      <td>SDI Annual Ijtema 2017 Final Day (For Brothers...</td>\n",
       "      <td>SDI ChannelStudy IQ educationSeeKenonly iasAdd...</td>\n",
       "      <td>2017-11-12T19:26:25.000Z2017-11-13T03:12:33.00...</td>\n",
       "      <td>sdi|\"islam\"|\"preacher\"|\"sunni\"|\"sunni ijtema\"|...</td>\n",
       "      <td>145533791</td>\n",
       "      <td>7471726</td>\n",
       "      <td>246667</td>\n",
       "      <td>943667</td>\n",
       "      <td>https://i.ytimg.com/vi/Ukjn7A9L7vY/default.jpg...</td>\n",
       "      <td>134</td>\n",
       "      <td>112</td>\n",
       "      <td>0</td>\n",
       "      <td>Sunni Dawate Islami Presents\\nTopic:  Annual I...</td>\n",
       "    </tr>\n",
       "    <tr>\n",
       "      <th>28</th>\n",
       "      <td>bx-QX2ZPH605zHIyadCwwE-90fWzjVM7wpBmmYgmN2IMnL...</td>\n",
       "      <td>17.14.1117.14.1117.14.1117.14.1117.15.1117.15....</td>\n",
       "      <td>Moto X4 Unboxing &amp; Hands On Overview (Indian U...</td>\n",
       "      <td>GeekyranjitTechnical GurujiTrending TamilnaduS...</td>\n",
       "      <td>2017-11-13T10:00:04.000Z2017-11-13T16:58:20.00...</td>\n",
       "      <td>moto x4 unboxing|\"moto x4\"|\"moto x4 india\"|\"mo...</td>\n",
       "      <td>477111016</td>\n",
       "      <td>21395585</td>\n",
       "      <td>913603</td>\n",
       "      <td>9664392</td>\n",
       "      <td>https://i.ytimg.com/vi/bx-QX2ZPH60/default.jpg...</td>\n",
       "      <td>10</td>\n",
       "      <td>3</td>\n",
       "      <td>0</td>\n",
       "      <td>Moto X4 Unboxing &amp; Overview the Moto X4 is pow...</td>\n",
       "    </tr>\n",
       "    <tr>\n",
       "      <th>29</th>\n",
       "      <td>xzEbOteUiRYOZU2E50G4KIxzEbOteUiRYio82HGyOf9sz4...</td>\n",
       "      <td>17.14.1117.14.1117.15.1117.17.1117.17.1117.17....</td>\n",
       "      <td>ਅੰਮ੍ਰਿਤਸਰ” ਵਿੱਚ ਦੀਵਾਨ ਲਗਾਉਣਾ ਸਾਡਾ ਮਕਸਦ ਨਹੀਂ, ਸ...</td>\n",
       "      <td>Emm PeeAnkur Narula MinistriesEmm PeeSupercell...</td>\n",
       "      <td>2017-11-12T22:34:25.000Z2017-11-12T12:07:04.00...</td>\n",
       "      <td>Parmeshar|\"Dwar\"|\"Trust\"|\"Sikh\"|\"Channel\"|\"Kha...</td>\n",
       "      <td>6615156</td>\n",
       "      <td>218112</td>\n",
       "      <td>8730</td>\n",
       "      <td>12844</td>\n",
       "      <td>https://i.ytimg.com/vi/xzEbOteUiRY/default.jpg...</td>\n",
       "      <td>64</td>\n",
       "      <td>31</td>\n",
       "      <td>0</td>\n",
       "      <td>LIVE AT - DHANOULA (BARNALA) \\nFor all the lat...</td>\n",
       "    </tr>\n",
       "    <tr>\n",
       "      <th>30</th>\n",
       "      <td>UZnU-duI_qMUZnU-duI_qMl7E0kTvARsAl7E0kTvARsAl7...</td>\n",
       "      <td>18.01.0118.02.0118.31.0518.31.0518.01.0618.01....</td>\n",
       "      <td>Mass Leader (Kannada) Full Movie | Shivaraj Ku...</td>\n",
       "      <td>Mantar MusicMantar MusicRhythm BoyzRhythm Boyz...</td>\n",
       "      <td>2017-12-30T09:20:48.000Z2017-12-30T09:20:48.00...</td>\n",
       "      <td>mass leader|\"mass leader songs\"|\"mass leader v...</td>\n",
       "      <td>49040020</td>\n",
       "      <td>662651</td>\n",
       "      <td>34182</td>\n",
       "      <td>36941</td>\n",
       "      <td>https://i.ytimg.com/vi/UZnU-duI_qM/default.jpg...</td>\n",
       "      <td>0</td>\n",
       "      <td>0</td>\n",
       "      <td>0</td>\n",
       "      <td>Mass Leader (Kannada) Full Movie\\n\\nCasts - Sh...</td>\n",
       "    </tr>\n",
       "    <tr>\n",
       "      <th>43</th>\n",
       "      <td>WPuhu6dYyQYAlrbKKGIcjIwX0P4YuMycA5EBDXsTkg1EnM...</td>\n",
       "      <td>17.14.1117.15.1117.16.1117.17.1117.17.1117.18....</td>\n",
       "      <td>Baal Veer - बाल वीर - Episode 777 (Part 1) - 1...</td>\n",
       "      <td>Sony PALVikatanTVSony PALVikatanTVSony PALVika...</td>\n",
       "      <td>2017-11-11T16:55:38.000Z2017-11-14T15:00:00.00...</td>\n",
       "      <td>superhero|\"kid with superpowers\"|\"indian super...</td>\n",
       "      <td>139581891</td>\n",
       "      <td>787516</td>\n",
       "      <td>226268</td>\n",
       "      <td>104880</td>\n",
       "      <td>https://i.ytimg.com/vi/WPuhu6dYyQY/default.jpg...</td>\n",
       "      <td>0</td>\n",
       "      <td>1</td>\n",
       "      <td>0</td>\n",
       "      <td>Subscribe to Sony Pal: http://www.youtube.com/...</td>\n",
       "    </tr>\n",
       "  </tbody>\n",
       "</table>\n",
       "</div>"
      ],
      "text/plain": [
       "                                                      video_id  \\\n",
       "category_id                                                      \n",
       "1            kzwfHumJyYcePO5M5DE01IMF9ovM9y0PExjFKfAudCOotz...   \n",
       "2            NDuOXWe4KW8Ik9JXtQDqmUNDuOXWe4KW8Ik9JXtQDqmUND...   \n",
       "10           7MxiQ4v0EnEc64I9HNpiOYzOOmEDwPJX0so0ccfs-psI01...   \n",
       "15                                XlCHEONTqncXlCHEONTqnc#NAME?   \n",
       "17           efpUCPITNmwysik6z44B1EPnYrL1rK-z8ysik6z44B1EEx...   \n",
       "19           0SMKG3SRGzQ0SMKG3SRGzQ0SMKG3SRGzQh4DDlNQyt24h4...   \n",
       "20           jfrGsxoQJncjRT74op6xakjRT74op6xakjRT74op6xakjR...   \n",
       "22           7gShaSuK_PYMqfh8_Uk1eMMXH7yFFl3fETuOBfQRXwhQXj...   \n",
       "23           N1vE8iiEg64ep3SLMuRbvgCLl1RbxDRAsYvp9jUJtMuY3d...   \n",
       "24           10L1hZ9qa58kJzGH0PVQHQil_pSa5l98wKObFEYCaRx8g8...   \n",
       "25           zUZ1z7FwLc8Prb_osSVE0MtFM-GNSeXzwjElRtesCnlAq3...   \n",
       "26           qP67alYxSiU4tEqzEo5uKYMwn4zdD51KcU3xLOo-CNwoPV...   \n",
       "27           Ukjn7A9L7vYhDUel4MX-Fwy6YY8-k9Cwg7BUEKSFwk7QSD...   \n",
       "28           bx-QX2ZPH605zHIyadCwwE-90fWzjVM7wpBmmYgmN2IMnL...   \n",
       "29           xzEbOteUiRYOZU2E50G4KIxzEbOteUiRYio82HGyOf9sz4...   \n",
       "30           UZnU-duI_qMUZnU-duI_qMl7E0kTvARsAl7E0kTvARsAl7...   \n",
       "43           WPuhu6dYyQYAlrbKKGIcjIwX0P4YuMycA5EBDXsTkg1EnM...   \n",
       "\n",
       "                                                 trending_date  \\\n",
       "category_id                                                      \n",
       "1            17.14.1117.14.1117.14.1117.14.1117.14.1117.14....   \n",
       "2            17.14.1117.15.1117.15.1117.16.1117.16.1117.18....   \n",
       "10           17.14.1117.14.1117.14.1117.14.1117.14.1117.14....   \n",
       "15                                    17.18.1117.19.1118.24.03   \n",
       "17           17.14.1117.15.1117.15.1117.16.1117.16.1117.17....   \n",
       "19           17.14.1117.15.1117.16.1117.02.1217.03.1218.30....   \n",
       "20           17.07.1217.09.1217.10.1217.11.1217.12.1217.18....   \n",
       "22           17.14.1117.14.1117.14.1117.14.1117.14.1117.14....   \n",
       "23           17.14.1117.14.1117.14.1117.14.1117.14.1117.14....   \n",
       "24           17.14.1117.14.1117.14.1117.14.1117.14.1117.14....   \n",
       "25           17.14.1117.14.1117.14.1117.14.1117.14.1117.14....   \n",
       "26           17.14.1117.14.1117.14.1117.14.1117.14.1117.14....   \n",
       "27           17.14.1117.14.1117.14.1117.14.1117.14.1117.14....   \n",
       "28           17.14.1117.14.1117.14.1117.14.1117.15.1117.15....   \n",
       "29           17.14.1117.14.1117.15.1117.17.1117.17.1117.17....   \n",
       "30           18.01.0118.02.0118.31.0518.31.0518.01.0618.01....   \n",
       "43           17.14.1117.15.1117.16.1117.17.1117.17.1117.18....   \n",
       "\n",
       "                                                         title  \\\n",
       "category_id                                                      \n",
       "1            Sharry Mann: Cute Munda ( Song Teaser) | Parmi...   \n",
       "2            உலக அழிவை முன்பே தெரிந்து கொள்ளும் 5 மர்ம அறிக...   \n",
       "10           Daang ( Full Video ) | Mankirt Aulakh | Sukh S...   \n",
       "15           WE ARE ALL GOING TO D1E.WE ARE ALL GOING TO D1...   \n",
       "17           Russia Vs Argentina 0-1 - All Goals & Highligh...   \n",
       "19           Rana hungama at #ChaySam Wedding Reception || ...   \n",
       "20           Clash Royale: World Finals 2018 Reveal!Clash R...   \n",
       "22           ஜெயலலிதாவின் உயில் சிக்கியது  அப்பல்லோ சி.டி.ய...   \n",
       "23           Eruma Saani | Tamil vs EnglishTYPES OF STUDENT...   \n",
       "24           Stylish Star Allu Arjun @ ChaySam Wedding Rece...   \n",
       "25           पीरियड्स के समय, पेट पर पति करता ऐसा, देखकर दं...   \n",
       "26           కెమెరాలో రికార్డ్ అయిన ఈ అద్భుతాన్ని చూస్తే ఆశ...   \n",
       "27           SDI Annual Ijtema 2017 Final Day (For Brothers...   \n",
       "28           Moto X4 Unboxing & Hands On Overview (Indian U...   \n",
       "29           ਅੰਮ੍ਰਿਤਸਰ” ਵਿੱਚ ਦੀਵਾਨ ਲਗਾਉਣਾ ਸਾਡਾ ਮਕਸਦ ਨਹੀਂ, ਸ...   \n",
       "30           Mass Leader (Kannada) Full Movie | Shivaraj Ku...   \n",
       "43           Baal Veer - बाल वीर - Episode 777 (Part 1) - 1...   \n",
       "\n",
       "                                                 channel_title  \\\n",
       "category_id                                                      \n",
       "1            Lokdhun PunjabiYRFDREAMS N BEYONDDream Warrior...   \n",
       "2            Kollywood TalkModi again in 2019Kollywood Talk...   \n",
       "10           Speed RecordsT-SeriesWhite Hill MusicVS RECORD...   \n",
       "15                                   PewDiePiePewDiePieKaumudy   \n",
       "17           NugoBasilaiaaWWETv9 GujaratiWWEGOLAZO TVKabadd...   \n",
       "19           TV9 TeluguTV9 TeluguTV9 TeluguUseful Tamil cha...   \n",
       "20           Clash RoyaleClash RoyaleClash RoyaleClash Roya...   \n",
       "22           Next GenETV JabardasthAstroMitramBrijnaari Sum...   \n",
       "23           Eruma SaaniElvish yadavTroubleSeekerTeamETV Pl...   \n",
       "24           TFPCFilmylooksDil RajuTop Telugu MediaJump Cut...   \n",
       "25           HJ NEWSABN TeluguHindi KhabarSathiyam NewsNTV ...   \n",
       "26           HOTNEWS TELUGUSumanTVMagical NuskheTroom Troom...   \n",
       "27           SDI ChannelStudy IQ educationSeeKenonly iasAdd...   \n",
       "28           GeekyranjitTechnical GurujiTrending TamilnaduS...   \n",
       "29           Emm PeeAnkur Narula MinistriesEmm PeeSupercell...   \n",
       "30           Mantar MusicMantar MusicRhythm BoyzRhythm Boyz...   \n",
       "43           Sony PALVikatanTVSony PALVikatanTVSony PALVika...   \n",
       "\n",
       "                                                  publish_time  \\\n",
       "category_id                                                      \n",
       "1            2017-11-12T12:20:39.000Z2017-11-07T06:01:50.00...   \n",
       "2            2017-11-13T07:12:19.000Z2017-11-13T20:30:00.00...   \n",
       "10           2017-11-11T16:41:15.000Z2017-11-11T06:14:19.00...   \n",
       "15           2017-11-16T17:53:31.000Z2017-11-16T17:53:31.00...   \n",
       "17           2017-11-11T14:55:25.000Z2017-11-14T02:34:14.00...   \n",
       "19           2017-11-12T16:08:13.000Z2017-11-12T16:08:13.00...   \n",
       "20           2017-12-05T13:43:12.000Z2017-12-08T15:14:54.00...   \n",
       "22           2017-11-13T06:52:47.000Z2017-11-10T20:38:52.00...   \n",
       "23           2017-11-12T07:08:48.000Z2017-11-13T11:26:02.00...   \n",
       "24           2017-11-12T15:48:08.000Z2017-11-13T01:14:16.00...   \n",
       "25           2017-11-13T05:43:56.000Z2017-11-13T09:51:59.00...   \n",
       "26           2017-11-12T03:53:49.000Z2017-11-13T03:30:01.00...   \n",
       "27           2017-11-12T19:26:25.000Z2017-11-13T03:12:33.00...   \n",
       "28           2017-11-13T10:00:04.000Z2017-11-13T16:58:20.00...   \n",
       "29           2017-11-12T22:34:25.000Z2017-11-12T12:07:04.00...   \n",
       "30           2017-12-30T09:20:48.000Z2017-12-30T09:20:48.00...   \n",
       "43           2017-11-11T16:55:38.000Z2017-11-14T15:00:00.00...   \n",
       "\n",
       "                                                          tags        views  \\\n",
       "category_id                                                                   \n",
       "1            sharry mann|\"sharry mann new song\"|\"sharry man...   3847149504   \n",
       "2            5 amazing signs world end|\"amazing facts about...     30384725   \n",
       "10           punjabi songs|\"punjabi bhangra\"|\"punjabi music...  10150844485   \n",
       "15           [none][none]Snake|\"Vavasuresh\"|\"vavasureshvide...      4879743   \n",
       "17           Russia Vs Argentina 0-1 - All Goals & Highligh...   1379949159   \n",
       "19           Rana hungama at #ChaySam Wedding Reception || ...      1374342   \n",
       "20           Clash Royale|\"Clash Royale Game\"|\"Supercell\"|\"...    274722506   \n",
       "22           nextgen|\"sasikala\"|\"sasikala natarajan\"|\"aiadm...   1364104242   \n",
       "23           Eruma Saani|\"Tamil Comedy Videos\"|\"Films\"|\"Mov...   2887672070   \n",
       "24           Stylish Star Allu Arjun @ ChaySam Wedding Rece...  16120390974   \n",
       "25           पीरियड्स के समय|\"पेट पर पति करता ऐसा\"|\"देखकर द...   1994263812   \n",
       "26           Miracles Caught on Camera|\"Miracles Caught on ...    737343593   \n",
       "27           sdi|\"islam\"|\"preacher\"|\"sunni\"|\"sunni ijtema\"|...    145533791   \n",
       "28           moto x4 unboxing|\"moto x4\"|\"moto x4 india\"|\"mo...    477111016   \n",
       "29           Parmeshar|\"Dwar\"|\"Trust\"|\"Sikh\"|\"Channel\"|\"Kha...      6615156   \n",
       "30           mass leader|\"mass leader songs\"|\"mass leader v...     49040020   \n",
       "43           superhero|\"kid with superpowers\"|\"indian super...    139581891   \n",
       "\n",
       "                 likes  dislikes  comment_count  \\\n",
       "category_id                                       \n",
       "1             69241553   4315081        5789446   \n",
       "2               539571     22284          86488   \n",
       "10           254328536  15030992       17595070   \n",
       "15              362534      6488          42056   \n",
       "17            32969986   1316379        2717679   \n",
       "19               16939       616           2448   \n",
       "20             6707728    341616         623839   \n",
       "22            23194729   1728388        2661920   \n",
       "23           174114686   6976508       13806968   \n",
       "24           396146637  27428929       42199473   \n",
       "25            15545971   2737604        2954198   \n",
       "26             7889210    859807         748899   \n",
       "27             7471726    246667         943667   \n",
       "28            21395585    913603        9664392   \n",
       "29              218112      8730          12844   \n",
       "30              662651     34182          36941   \n",
       "43              787516    226268         104880   \n",
       "\n",
       "                                                thumbnail_link  \\\n",
       "category_id                                                      \n",
       "1            https://i.ytimg.com/vi/kzwfHumJyYc/default.jpg...   \n",
       "2            https://i.ytimg.com/vi/NDuOXWe4KW8/default.jpg...   \n",
       "10           https://i.ytimg.com/vi/7MxiQ4v0EnE/default.jpg...   \n",
       "15           https://i.ytimg.com/vi/XlCHEONTqnc/default.jpg...   \n",
       "17           https://i.ytimg.com/vi/efpUCPITNmw/default.jpg...   \n",
       "19           https://i.ytimg.com/vi/0SMKG3SRGzQ/default.jpg...   \n",
       "20           https://i.ytimg.com/vi/jfrGsxoQJnc/default.jpg...   \n",
       "22           https://i.ytimg.com/vi/7gShaSuK_PY/default.jpg...   \n",
       "23           https://i.ytimg.com/vi/N1vE8iiEg64/default.jpg...   \n",
       "24           https://i.ytimg.com/vi/10L1hZ9qa58/default.jpg...   \n",
       "25           https://i.ytimg.com/vi/zUZ1z7FwLc8/default.jpg...   \n",
       "26           https://i.ytimg.com/vi/qP67alYxSiU/default.jpg...   \n",
       "27           https://i.ytimg.com/vi/Ukjn7A9L7vY/default.jpg...   \n",
       "28           https://i.ytimg.com/vi/bx-QX2ZPH60/default.jpg...   \n",
       "29           https://i.ytimg.com/vi/xzEbOteUiRY/default.jpg...   \n",
       "30           https://i.ytimg.com/vi/UZnU-duI_qM/default.jpg...   \n",
       "43           https://i.ytimg.com/vi/WPuhu6dYyQY/default.jpg...   \n",
       "\n",
       "             comments_disabled  ratings_disabled  video_error_or_removed  \\\n",
       "category_id                                                                \n",
       "1                           71                11                      11   \n",
       "2                            9                 2                       0   \n",
       "10                           7                 8                       0   \n",
       "15                           0                 0                       0   \n",
       "17                           8                10                       0   \n",
       "19                           0                 0                       0   \n",
       "20                           0                 0                       0   \n",
       "22                         163               107                       0   \n",
       "23                           0                 0                       0   \n",
       "24                         453               203                       0   \n",
       "25                         255               277                       0   \n",
       "26                          30                16                       0   \n",
       "27                         134               112                       0   \n",
       "28                          10                 3                       0   \n",
       "29                          64                31                       0   \n",
       "30                           0                 0                       0   \n",
       "43                           0                 1                       0   \n",
       "\n",
       "                                                   description  \n",
       "category_id                                                     \n",
       "1            Presenting Sharry Mann latest Punjabi Song  Cu...  \n",
       "2            உலக அழிவை முன்பே தெரிந்து கொள்ளும் 5 அறிகுறிகள...  \n",
       "10           Song - Daang\\nSinger - Mankirt Aulakh\\nFaceboo...  \n",
       "15           Join my giveaway for a BEAST Origin computer! ...  \n",
       "17           Russia Vs Argentina 0-1 - All Goals & Highligh...  \n",
       "19           Rana hungama at #ChaySam Wedding Reception || ...  \n",
       "20           Subscribe! http://supr.cl/SubRoyale\\n\\n\\nEnter...  \n",
       "22           ஜெயலலிதாவின் உயில் சிக்கியது \\nஅப்பல்லோ சி.டி....  \n",
       "23           This video showcases the difference between pe...  \n",
       "24           Watch Stylish Star Allu Arjun @ ChaySam Weddin...  \n",
       "25           पीरियड्स के समय, पेट पर पति करता ऐसा, देखकर दं...  \n",
       "26           Watch ► ఈ రోజు కార్తీకమాస చివరి సోమవారం ఇది వి...  \n",
       "27           Sunni Dawate Islami Presents\\nTopic:  Annual I...  \n",
       "28           Moto X4 Unboxing & Overview the Moto X4 is pow...  \n",
       "29           LIVE AT - DHANOULA (BARNALA) \\nFor all the lat...  \n",
       "30           Mass Leader (Kannada) Full Movie\\n\\nCasts - Sh...  \n",
       "43           Subscribe to Sony Pal: http://www.youtube.com/...  "
      ]
     },
     "execution_count": 3,
     "metadata": {},
     "output_type": "execute_result"
    }
   ],
   "source": [
    "# grouping of data based on category ID\n",
    "df.groupby('category_id').sum()\n"
   ]
  },
  {
   "cell_type": "code",
   "execution_count": 22,
   "id": "07957a02-4169-468d-b34a-4903c47ecb52",
   "metadata": {},
   "outputs": [
    {
     "data": {
      "text/plain": [
       "<BarContainer object of 37352 artists>"
      ]
     },
     "execution_count": 22,
     "metadata": {},
     "output_type": "execute_result"
    },
    {
     "data": {
      "image/png": "[encoded data removed]",
      "text/plain": [
       "<Figure size 640x480 with 1 Axes>"
      ]
     },
     "metadata": {},
     "output_type": "display_data"
    }
   ],
   "source": [
    "#which category has highest views\n",
    "plt.bar(df['category_id'], df['views'])"
   ]
  },
  {
   "cell_type": "code",
   "execution_count": 4,
   "id": "7352b70c-b9f8-410d-9e99-805cf22864bf",
   "metadata": {},
   "outputs": [
    {
     "data": {
      "text/plain": [
       "<BarContainer object of 37352 artists>"
      ]
     },
     "execution_count": 4,
     "metadata": {},
     "output_type": "execute_result"
    },
    {
     "data": {
      "image/png": "[encoded data removed]",
      "text/plain": [
       "<Figure size 640x480 with 1 Axes>"
      ]
     },
     "metadata": {},
     "output_type": "display_data"
    }
   ],
   "source": [
    "plt.bar(df['category_id'], df['likes'])"
   ]
  },
  {
   "cell_type": "code",
   "execution_count": 5,
   "id": "78207371-544f-48f6-9068-bd6b90257f06",
   "metadata": {},
   "outputs": [
    {
     "name": "stdout",
     "output_type": "stream",
     "text": [
      "<class 'pandas.core.frame.DataFrame'>\n",
      "RangeIndex: 37352 entries, 0 to 37351\n",
      "Data columns (total 16 columns):\n",
      " #   Column                  Non-Null Count  Dtype \n",
      "---  ------                  --------------  ----- \n",
      " 0   video_id                37352 non-null  object\n",
      " 1   trending_date           37352 non-null  object\n",
      " 2   title                   37352 non-null  object\n",
      " 3   channel_title           37352 non-null  object\n",
      " 4   category_id             37352 non-null  int64 \n",
      " 5   publish_time            37352 non-null  object\n",
      " 6   tags                    37352 non-null  object\n",
      " 7   views                   37352 non-null  int64 \n",
      " 8   likes                   37352 non-null  int64 \n",
      " 9   dislikes                37352 non-null  int64 \n",
      " 10  comment_count           37352 non-null  int64 \n",
      " 11  thumbnail_link          37352 non-null  object\n",
      " 12  comments_disabled       37352 non-null  bool  \n",
      " 13  ratings_disabled        37352 non-null  bool  \n",
      " 14  video_error_or_removed  37352 non-null  bool  \n",
      " 15  description             36791 non-null  object\n",
      "dtypes: bool(3), int64(5), object(8)\n",
      "memory usage: 3.8+ MB\n"
     ]
    }
   ],
   "source": [
    "df.info()"
   ]
  },
  {
   "cell_type": "code",
   "execution_count": 7,
   "id": "5a51c0b0-08c1-4712-a6d7-54da0d309e79",
   "metadata": {},
   "outputs": [
    {
     "data": {
      "text/plain": [
       "video_error_or_removed\n",
       "False    37341\n",
       "True        11\n",
       "Name: count, dtype: int64"
      ]
     },
     "execution_count": 7,
     "metadata": {},
     "output_type": "execute_result"
    }
   ],
   "source": [
    "# how many videos got removed or had some error\n",
    "df['video_error_or_removed'].value_counts()"
   ]
  },
  {
   "cell_type": "code",
   "execution_count": 8,
   "id": "884c10fc-3822-437c-831f-63446b656686",
   "metadata": {},
   "outputs": [
    {
     "data": {
      "text/plain": [
       "comments_disabled\n",
       "False    0.967766\n",
       "True     0.032234\n",
       "Name: proportion, dtype: float64"
      ]
     },
     "execution_count": 8,
     "metadata": {},
     "output_type": "execute_result"
    }
   ],
   "source": [
    "#percentage of videos that have comments disabled\n",
    "\n",
    "df['comments_disabled'].value_counts(normalize= True)"
   ]
  },
  {
   "cell_type": "code",
   "execution_count": 9,
   "id": "0b512cf9-e3c4-4889-b5f4-15ba1fec3d4d",
   "metadata": {},
   "outputs": [
    {
     "data": {
      "text/plain": [
       "ratings_disabled\n",
       "False    0.979091\n",
       "True     0.020909\n",
       "Name: proportion, dtype: float64"
      ]
     },
     "execution_count": 9,
     "metadata": {},
     "output_type": "execute_result"
    }
   ],
   "source": [
    "#ratings_disabled\n",
    "df['ratings_disabled'].value_counts(normalize= True)"
   ]
  },
  {
   "cell_type": "code",
   "execution_count": 11,
   "id": "788a95b1-e07d-42fb-857e-c6c1985b8717",
   "metadata": {},
   "outputs": [
    {
     "data": {
      "text/plain": [
       "588"
      ]
     },
     "execution_count": 11,
     "metadata": {},
     "output_type": "execute_result"
    }
   ],
   "source": [
    "len(df[(df['comments_disabled'] ==True)& (df['ratings_disabled'] ==True).index])"
   ]
  },
  {
   "cell_type": "code",
   "execution_count": null,
   "id": "b8e0b171-0393-4d47-a152-bc2655467870",
   "metadata": {},
   "outputs": [],
   "source": []
  }
 ],
 "metadata": {
  "kernelspec": {
   "display_name": "Python 3 (ipykernel)",
   "language": "python",
   "name": "python3"
  },
  "language_info": {
   "codemirror_mode": {
    "name": "ipython",
    "version": 3
   },
   "file_extension": ".py",
   "mimetype": "text/x-python",
   "name": "python",
   "nbconvert_exporter": "python",
   "pygments_lexer": "ipython3",
   "version": "3.11.7"
  }
 },
 "nbformat": 4,
 "nbformat_minor": 5
}
